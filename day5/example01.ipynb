{
 "cells": [
  {
   "cell_type": "code",
   "execution_count": null,
   "metadata": {},
   "outputs": [],
   "source": [
    "import os\n",
    "import pandas as pd\n",
    "import matplotlib.pyplot as plt\n",
    "import numpy as np\n",
    "import xlwings as xw\n",
    "\n",
    "path=r\"d:\\code\\pythoncode\\pythonexcel\\day5\"\n",
    "os.chdir(path)\n",
    "df=pd.read_excel(\"salestotal.xlsx\")\n",
    "# print(df)\n",
    "figure=plt.figure() # 创建画布\n",
    "x=df['Month']\n",
    "y=df['Sales']\n",
    "plt.plot(x,y,color='red',linewidth=2,linestyle='solid')\n",
    "plt.title(label='sales by month',loc='center',fontdict={'color':'blue','size':'15'})\n",
    "\n",
    "for a,b in zip(x,y):\n",
    "    plt.text(a,b,b,ha='center',va='bottom',fontsize=10) # 给每个点添加文字\n",
    "\n",
    "plt.axis('off') # 关闭坐标轴\n",
    "plt.grid(True) # 显示网格线\n",
    "plt.show()\n",
    "figure.savefig(\"sales.png\")\n",
    "\n",
    "app=xw.App(visible=False,add_book=False) # load excel apps\n",
    "\n",
    "workbook=app.books.open(\"salestotal.xlsx\") # 打开excel\n",
    "worksheet=workbook.sheets[\"Sheet1\"] # 打开sheet\n",
    "worksheet.pictures.add(figure, name=\"sales\", update=True, left=200, top=0) # 添加图片 to excel\n",
    "workbook.save(\"saleschart01.xlsx\")\n",
    "workbook.close()\n",
    "app.quit() # 退出excel\n",
    "os.remove(\"sales.png\") # 删除图片\n",
    "\n",
    "\n",
    "\n",
    "\n",
    "\n",
    "\n"
   ]
  }
 ],
 "metadata": {
  "kernelspec": {
   "display_name": "venv",
   "language": "python",
   "name": "python3"
  },
  "language_info": {
   "codemirror_mode": {
    "name": "ipython",
    "version": 3
   },
   "file_extension": ".py",
   "mimetype": "text/x-python",
   "name": "python",
   "nbconvert_exporter": "python",
   "pygments_lexer": "ipython3",
   "version": "3.10.10"
  }
 },
 "nbformat": 4,
 "nbformat_minor": 2
}
